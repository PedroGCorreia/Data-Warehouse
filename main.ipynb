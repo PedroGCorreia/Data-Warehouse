{
 "cells": [
  {
   "cell_type": "markdown",
   "metadata": {},
   "source": [
    "# <center> <img src=\"figs/LogoUFSCar.jpg\" alt=\"Logo UFScar\" width=\"110\" align=\"left\"/>  <br/> <center>Universidade Federal de São Carlos (UFSCar)<br/><font size=\"4\"> Departamento de Computação, campus Sorocaba</center></font>\n",
    "</p>\n",
    "\n",
    "<font size=\"4\"><center><b>Disciplina: Novas Tecnologias em Banco de Dados</b></center></font>\n",
    "  \n",
    "<font size=\"3\"><center>Prof. Dr. Sahudy Montenegro González</center></font>\n",
    "\n",
    "## <center>Projeto Prático - CONAB COTAÇÕES</center>\n",
    "\n",
    "**Nome**: Mateus Tsuyoshi Matsuo Hashimoto e Pedro Gonçalves Correia\n",
    "\n",
    "**RA**: 813500 e 813281\n"
   ]
  },
  {
   "cell_type": "markdown",
   "metadata": {},
   "source": [
    "---\n",
    "### Web Scraping\n",
    "\n",
    "Nesta seção, será realizada a implementação do código referente ao web scraping do site da Companhia Nacional de Abastecimento (CONAB) a fim de extrair os dados a respeito das cotações dos insumos agropecuários."
   ]
  },
  {
   "cell_type": "markdown",
   "metadata": {},
   "source": [
    "Como o site possui um captcha de imagem para acessar as tabelas contendo os dados das consultas, o que impossibilitou o web scraping por meio do WebDriver. Porém, a partir de algumas análises, o grupo descobriu uma forma de extrair os dados do site. Essa maneira consiste em utilizar uma url base e, a partir dela, gerar as urls para todas as consultas e, assim, conseguir extrair todos os dados do site. "
   ]
  },
  {
   "cell_type": "markdown",
   "metadata": {},
   "source": [
    "Após realizar uma consulta manualmente, o grupo verificou que o link da página possuía o seguinte formato: https://consultaweb.conab.gov.br/consultas/consultaInsumo.do?d-6983528-p=1&uf=&anoFinal=2024&ano=2020&method=acaoListarConsulta&idSubGrupo=28&btnConsultar=Consultar&jcaptcha=WBLDS&idGrupo=9"
   ]
  },
  {
   "cell_type": "markdown",
   "metadata": {},
   "source": [
    "Sendo:\n",
    "* <b>\"https://consultaweb.conab.gov.br/consultas/consultaInsumo.do\"</b>: a url base;\n",
    "* <b>\"p=1\"</b>: a paginação da tabela;\n",
    "* <b>\"uf=\"</b>: a UF selecionada para a consulta;\n",
    "* <b>\"anoFinal=2024\"</b>: o ano final do intervalo de tempo da consulta;\n",
    "* <b>\"ano=2020\"</b>: o ano inicial do intervalo de tempo da consulta;\n",
    "* <b>\"method=acaoListarConsulta\"</b>: o método do sistema para listar os dados da consulta;\n",
    "* <b>\"idSubGrupo=28\"</b>: o id do SubGrupo selecionado para a consulta;\n",
    "* <b>\"btnConsultar=Consultar\"</b>: o botão de confirmar a consulta;\n",
    "* <b>\"jcaptcha=WBLDS\"</b>: o captcha utilizado para realizar a consulta;\n",
    "* <b>\"idGrupo=9\"</b>: o id do Grupo selecionado para a consulta.\n"
   ]
  },
  {
   "cell_type": "markdown",
   "metadata": {},
   "source": [
    "Com base nisso, o grupo alterou o link manualmente para verificar se seria possível realizar uma consulta diferente com o mesmo captcha, a fim de tentar solucionar essa questão impeditiva até então. Felizmente, foi possível concluir essa consulta graças à uma falha de segurança no sistema do site. A partir disso, a equipe realizou o código do web scraping a seguir.  "
   ]
  },
  {
   "cell_type": "markdown",
   "metadata": {},
   "source": [
    "Primeiramente, vamos realizar a importação das bibliotecas que serão utilizadas no projeto."
   ]
  },
  {
   "cell_type": "code",
   "execution_count": 1,
   "metadata": {},
   "outputs": [],
   "source": [
    "import requests  # Realiza requisições HTTP para acessar páginas web\n",
    "from bs4 import BeautifulSoup  # Faz parsing do HTML e extração de informações de páginas web\n",
    "import pandas as pd  # Manipula e analisa dados, especialmente em dataframes\n",
    "import time  # Permite controlar o tempo, inserindo delays entre requisições"
   ]
  },
  {
   "cell_type": "markdown",
   "metadata": {},
   "source": [
    "Agora, vamos estabelecer a url base e os parâmetros fixos."
   ]
  },
  {
   "cell_type": "code",
   "execution_count": 2,
   "metadata": {},
   "outputs": [],
   "source": [
    "# url base\n",
    "url = \"https://consultaweb.conab.gov.br/consultas/consultaInsumo.do\"\n",
    "\n",
    "# Parâmetros fixos\n",
    "ANO_INICIAL = 2020\n",
    "ANO_FINAL = 2024\n",
    "JCAPTCHA = \"WBLDS\""
   ]
  },
  {
   "cell_type": "markdown",
   "metadata": {},
   "source": [
    "A seguir, criaremos 3 dicionários fundamentais para realizar o web scraping desse site."
   ]
  },
  {
   "cell_type": "markdown",
   "metadata": {},
   "source": [
    "O primeiro dicionário serve para associar os grupos com os seus subgrupos por meio do id, para poder realizar todas as consultas possíveis."
   ]
  },
  {
   "cell_type": "code",
   "execution_count": 3,
   "metadata": {},
   "outputs": [],
   "source": [
    "grupos_subgrupos = {\n",
    "    9: [28, 29, 30, 31, 33, 35],\n",
    "    27: [32, 70, 71],\n",
    "    31: [127, 128, 129],\n",
    "    57: [137, 319, 339],\n",
    "    39: [139, 140, 322]\n",
    "}"
   ]
  },
  {
   "cell_type": "markdown",
   "metadata": {},
   "source": [
    "O segundo e o terceiro dicionário servem para mapear os ids dos grupos para os seus nomes e os ids dos subgrupos para os seus nomes, respectivamente. Esses dicionários têm como objetivo armazenar os nomes dos grupos e subgrupos, uma vez que as tabelas resultantes das consultas só possuem os nomes dos produtos. "
   ]
  },
  {
   "cell_type": "code",
   "execution_count": 4,
   "metadata": {},
   "outputs": [],
   "source": [
    "# Dicionário para mapear os IDs para os nomes dos grupos\n",
    "grupos_nomes = {\n",
    "    9: \"Agrotóxico\",\n",
    "    27: \"Fertilizante\",\n",
    "    31: \"Implemento\",\n",
    "    57: \"Máquinas/Motores\",\n",
    "    39: \"Material Propagativo\"\n",
    "}\n",
    "\n",
    "# Dicionário para mapear os IDs para os nomes dos subgrupos\n",
    "subgrupos_nomes = {\n",
    "    28: \"Acaricida\",\n",
    "    29: \"Espalhante/Adjuvante\",\n",
    "    30: \"Fungicida\",\n",
    "    31: \"Herbicida\",\n",
    "    33: \"Inseticida\",\n",
    "    35: \"Estimulante/Regulador de Crescimento\",\n",
    "    32: \"Inoculante\",\n",
    "    70: \"Orgânico\",\n",
    "    71: \"Químico\",\n",
    "    127: \"Colheitadeira\",\n",
    "    128: \"Manual\",\n",
    "    129: \"Mecânico\",\n",
    "    137: \"Máquina Agrícola\",\n",
    "    319: \"Conjunto\",\n",
    "    339: \"Máquina\",\n",
    "    139: \"Mudas\",\n",
    "    140: \"Sementes\",\n",
    "    322: \"Maniva\"\n",
    "}"
   ]
  },
  {
   "cell_type": "markdown",
   "metadata": {},
   "source": [
    "Agora, vamos criar duas listas, uma para armazenar os dados coletados e outra para pegar os cabeçalhos da tabela."
   ]
  },
  {
   "cell_type": "code",
   "execution_count": 5,
   "metadata": {},
   "outputs": [],
   "source": [
    "data = [] # Lista para armazenar os dados coletados\n",
    "headers = [] # Lista para armazenar os titulos das colunas"
   ]
  },
  {
   "cell_type": "markdown",
   "metadata": {},
   "source": [
    "Em seguida, iremos extrair todos os dados das tabelas geradas a partir das consultas acessadas por meio da construção das urls."
   ]
  },
  {
   "cell_type": "code",
   "execution_count": 6,
   "metadata": {},
   "outputs": [
    {
     "name": "stdout",
     "output_type": "stream",
     "text": [
      "https://consultaweb.conab.gov.br/consultas/consultaInsumo.do?d-6983528-p=1&uf=&anoFinal=2024&ano=2020&method=acaoListarConsulta&idSubGrupo=28&btnConsultar=Consultar&jcaptcha=WBLDS&idGrupo=9\n",
      "Grupo 9 | Subgrupo 28 | Página 1 | 75 registros coletados.\n",
      "https://consultaweb.conab.gov.br/consultas/consultaInsumo.do?d-6983528-p=2&uf=&anoFinal=2024&ano=2020&method=acaoListarConsulta&idSubGrupo=28&btnConsultar=Consultar&jcaptcha=WBLDS&idGrupo=9\n",
      "Grupo 9 | Subgrupo 28 | Página 2 | 32 registros coletados.\n",
      "https://consultaweb.conab.gov.br/consultas/consultaInsumo.do?d-6983528-p=3&uf=&anoFinal=2024&ano=2020&method=acaoListarConsulta&idSubGrupo=28&btnConsultar=Consultar&jcaptcha=WBLDS&idGrupo=9\n",
      "https://consultaweb.conab.gov.br/consultas/consultaInsumo.do?d-6983528-p=1&uf=&anoFinal=2024&ano=2020&method=acaoListarConsulta&idSubGrupo=29&btnConsultar=Consultar&jcaptcha=WBLDS&idGrupo=9\n",
      "Grupo 9 | Subgrupo 29 | Página 1 | 75 registros coletados.\n",
      "https://consultaweb.conab.gov.br/consultas/consultaInsumo.do?d-6983528-p=2&uf=&anoFinal=2024&ano=2020&method=acaoListarConsulta&idSubGrupo=29&btnConsultar=Consultar&jcaptcha=WBLDS&idGrupo=9\n",
      "Grupo 9 | Subgrupo 29 | Página 2 | 75 registros coletados.\n",
      "https://consultaweb.conab.gov.br/consultas/consultaInsumo.do?d-6983528-p=3&uf=&anoFinal=2024&ano=2020&method=acaoListarConsulta&idSubGrupo=29&btnConsultar=Consultar&jcaptcha=WBLDS&idGrupo=9\n",
      "Grupo 9 | Subgrupo 29 | Página 3 | 75 registros coletados.\n",
      "https://consultaweb.conab.gov.br/consultas/consultaInsumo.do?d-6983528-p=4&uf=&anoFinal=2024&ano=2020&method=acaoListarConsulta&idSubGrupo=29&btnConsultar=Consultar&jcaptcha=WBLDS&idGrupo=9\n",
      "Grupo 9 | Subgrupo 29 | Página 4 | 75 registros coletados.\n",
      "https://consultaweb.conab.gov.br/consultas/consultaInsumo.do?d-6983528-p=5&uf=&anoFinal=2024&ano=2020&method=acaoListarConsulta&idSubGrupo=29&btnConsultar=Consultar&jcaptcha=WBLDS&idGrupo=9\n",
      "Grupo 9 | Subgrupo 29 | Página 5 | 68 registros coletados.\n",
      "https://consultaweb.conab.gov.br/consultas/consultaInsumo.do?d-6983528-p=6&uf=&anoFinal=2024&ano=2020&method=acaoListarConsulta&idSubGrupo=29&btnConsultar=Consultar&jcaptcha=WBLDS&idGrupo=9\n",
      "Grupo 9 | Subgrupo 29 | Página 6 | 32 registros coletados.\n",
      "https://consultaweb.conab.gov.br/consultas/consultaInsumo.do?d-6983528-p=7&uf=&anoFinal=2024&ano=2020&method=acaoListarConsulta&idSubGrupo=29&btnConsultar=Consultar&jcaptcha=WBLDS&idGrupo=9\n",
      "https://consultaweb.conab.gov.br/consultas/consultaInsumo.do?d-6983528-p=1&uf=&anoFinal=2024&ano=2020&method=acaoListarConsulta&idSubGrupo=30&btnConsultar=Consultar&jcaptcha=WBLDS&idGrupo=9\n",
      "Grupo 9 | Subgrupo 30 | Página 1 | 75 registros coletados.\n",
      "https://consultaweb.conab.gov.br/consultas/consultaInsumo.do?d-6983528-p=2&uf=&anoFinal=2024&ano=2020&method=acaoListarConsulta&idSubGrupo=30&btnConsultar=Consultar&jcaptcha=WBLDS&idGrupo=9\n",
      "Grupo 9 | Subgrupo 30 | Página 2 | 75 registros coletados.\n",
      "https://consultaweb.conab.gov.br/consultas/consultaInsumo.do?d-6983528-p=3&uf=&anoFinal=2024&ano=2020&method=acaoListarConsulta&idSubGrupo=30&btnConsultar=Consultar&jcaptcha=WBLDS&idGrupo=9\n",
      "Grupo 9 | Subgrupo 30 | Página 3 | 75 registros coletados.\n",
      "https://consultaweb.conab.gov.br/consultas/consultaInsumo.do?d-6983528-p=4&uf=&anoFinal=2024&ano=2020&method=acaoListarConsulta&idSubGrupo=30&btnConsultar=Consultar&jcaptcha=WBLDS&idGrupo=9\n",
      "Grupo 9 | Subgrupo 30 | Página 4 | 75 registros coletados.\n",
      "https://consultaweb.conab.gov.br/consultas/consultaInsumo.do?d-6983528-p=5&uf=&anoFinal=2024&ano=2020&method=acaoListarConsulta&idSubGrupo=30&btnConsultar=Consultar&jcaptcha=WBLDS&idGrupo=9\n",
      "Grupo 9 | Subgrupo 30 | Página 5 | 75 registros coletados.\n",
      "https://consultaweb.conab.gov.br/consultas/consultaInsumo.do?d-6983528-p=6&uf=&anoFinal=2024&ano=2020&method=acaoListarConsulta&idSubGrupo=30&btnConsultar=Consultar&jcaptcha=WBLDS&idGrupo=9\n",
      "Grupo 9 | Subgrupo 30 | Página 6 | 75 registros coletados.\n",
      "https://consultaweb.conab.gov.br/consultas/consultaInsumo.do?d-6983528-p=7&uf=&anoFinal=2024&ano=2020&method=acaoListarConsulta&idSubGrupo=30&btnConsultar=Consultar&jcaptcha=WBLDS&idGrupo=9\n",
      "Grupo 9 | Subgrupo 30 | Página 7 | 75 registros coletados.\n",
      "https://consultaweb.conab.gov.br/consultas/consultaInsumo.do?d-6983528-p=8&uf=&anoFinal=2024&ano=2020&method=acaoListarConsulta&idSubGrupo=30&btnConsultar=Consultar&jcaptcha=WBLDS&idGrupo=9\n",
      "Grupo 9 | Subgrupo 30 | Página 8 | 75 registros coletados.\n",
      "https://consultaweb.conab.gov.br/consultas/consultaInsumo.do?d-6983528-p=9&uf=&anoFinal=2024&ano=2020&method=acaoListarConsulta&idSubGrupo=30&btnConsultar=Consultar&jcaptcha=WBLDS&idGrupo=9\n",
      "Grupo 9 | Subgrupo 30 | Página 9 | 75 registros coletados.\n",
      "https://consultaweb.conab.gov.br/consultas/consultaInsumo.do?d-6983528-p=10&uf=&anoFinal=2024&ano=2020&method=acaoListarConsulta&idSubGrupo=30&btnConsultar=Consultar&jcaptcha=WBLDS&idGrupo=9\n",
      "Grupo 9 | Subgrupo 30 | Página 10 | 75 registros coletados.\n",
      "https://consultaweb.conab.gov.br/consultas/consultaInsumo.do?d-6983528-p=11&uf=&anoFinal=2024&ano=2020&method=acaoListarConsulta&idSubGrupo=30&btnConsultar=Consultar&jcaptcha=WBLDS&idGrupo=9\n",
      "Grupo 9 | Subgrupo 30 | Página 11 | 75 registros coletados.\n",
      "https://consultaweb.conab.gov.br/consultas/consultaInsumo.do?d-6983528-p=12&uf=&anoFinal=2024&ano=2020&method=acaoListarConsulta&idSubGrupo=30&btnConsultar=Consultar&jcaptcha=WBLDS&idGrupo=9\n",
      "Grupo 9 | Subgrupo 30 | Página 12 | 75 registros coletados.\n",
      "https://consultaweb.conab.gov.br/consultas/consultaInsumo.do?d-6983528-p=13&uf=&anoFinal=2024&ano=2020&method=acaoListarConsulta&idSubGrupo=30&btnConsultar=Consultar&jcaptcha=WBLDS&idGrupo=9\n",
      "Grupo 9 | Subgrupo 30 | Página 13 | 75 registros coletados.\n",
      "https://consultaweb.conab.gov.br/consultas/consultaInsumo.do?d-6983528-p=14&uf=&anoFinal=2024&ano=2020&method=acaoListarConsulta&idSubGrupo=30&btnConsultar=Consultar&jcaptcha=WBLDS&idGrupo=9\n",
      "Grupo 9 | Subgrupo 30 | Página 14 | 75 registros coletados.\n",
      "https://consultaweb.conab.gov.br/consultas/consultaInsumo.do?d-6983528-p=15&uf=&anoFinal=2024&ano=2020&method=acaoListarConsulta&idSubGrupo=30&btnConsultar=Consultar&jcaptcha=WBLDS&idGrupo=9\n",
      "Grupo 9 | Subgrupo 30 | Página 15 | 75 registros coletados.\n",
      "https://consultaweb.conab.gov.br/consultas/consultaInsumo.do?d-6983528-p=16&uf=&anoFinal=2024&ano=2020&method=acaoListarConsulta&idSubGrupo=30&btnConsultar=Consultar&jcaptcha=WBLDS&idGrupo=9\n",
      "Grupo 9 | Subgrupo 30 | Página 16 | 75 registros coletados.\n",
      "https://consultaweb.conab.gov.br/consultas/consultaInsumo.do?d-6983528-p=17&uf=&anoFinal=2024&ano=2020&method=acaoListarConsulta&idSubGrupo=30&btnConsultar=Consultar&jcaptcha=WBLDS&idGrupo=9\n",
      "Grupo 9 | Subgrupo 30 | Página 17 | 57 registros coletados.\n",
      "https://consultaweb.conab.gov.br/consultas/consultaInsumo.do?d-6983528-p=18&uf=&anoFinal=2024&ano=2020&method=acaoListarConsulta&idSubGrupo=30&btnConsultar=Consultar&jcaptcha=WBLDS&idGrupo=9\n",
      "Grupo 9 | Subgrupo 30 | Página 18 | 45 registros coletados.\n",
      "https://consultaweb.conab.gov.br/consultas/consultaInsumo.do?d-6983528-p=19&uf=&anoFinal=2024&ano=2020&method=acaoListarConsulta&idSubGrupo=30&btnConsultar=Consultar&jcaptcha=WBLDS&idGrupo=9\n",
      "Grupo 9 | Subgrupo 30 | Página 19 | 37 registros coletados.\n",
      "https://consultaweb.conab.gov.br/consultas/consultaInsumo.do?d-6983528-p=20&uf=&anoFinal=2024&ano=2020&method=acaoListarConsulta&idSubGrupo=30&btnConsultar=Consultar&jcaptcha=WBLDS&idGrupo=9\n",
      "Grupo 9 | Subgrupo 30 | Página 20 | 7 registros coletados.\n",
      "https://consultaweb.conab.gov.br/consultas/consultaInsumo.do?d-6983528-p=21&uf=&anoFinal=2024&ano=2020&method=acaoListarConsulta&idSubGrupo=30&btnConsultar=Consultar&jcaptcha=WBLDS&idGrupo=9\n",
      "https://consultaweb.conab.gov.br/consultas/consultaInsumo.do?d-6983528-p=1&uf=&anoFinal=2024&ano=2020&method=acaoListarConsulta&idSubGrupo=31&btnConsultar=Consultar&jcaptcha=WBLDS&idGrupo=9\n",
      "Grupo 9 | Subgrupo 31 | Página 1 | 75 registros coletados.\n",
      "https://consultaweb.conab.gov.br/consultas/consultaInsumo.do?d-6983528-p=2&uf=&anoFinal=2024&ano=2020&method=acaoListarConsulta&idSubGrupo=31&btnConsultar=Consultar&jcaptcha=WBLDS&idGrupo=9\n",
      "Grupo 9 | Subgrupo 31 | Página 2 | 75 registros coletados.\n",
      "https://consultaweb.conab.gov.br/consultas/consultaInsumo.do?d-6983528-p=3&uf=&anoFinal=2024&ano=2020&method=acaoListarConsulta&idSubGrupo=31&btnConsultar=Consultar&jcaptcha=WBLDS&idGrupo=9\n",
      "Grupo 9 | Subgrupo 31 | Página 3 | 75 registros coletados.\n",
      "https://consultaweb.conab.gov.br/consultas/consultaInsumo.do?d-6983528-p=4&uf=&anoFinal=2024&ano=2020&method=acaoListarConsulta&idSubGrupo=31&btnConsultar=Consultar&jcaptcha=WBLDS&idGrupo=9\n",
      "Grupo 9 | Subgrupo 31 | Página 4 | 75 registros coletados.\n",
      "https://consultaweb.conab.gov.br/consultas/consultaInsumo.do?d-6983528-p=5&uf=&anoFinal=2024&ano=2020&method=acaoListarConsulta&idSubGrupo=31&btnConsultar=Consultar&jcaptcha=WBLDS&idGrupo=9\n",
      "Grupo 9 | Subgrupo 31 | Página 5 | 75 registros coletados.\n",
      "https://consultaweb.conab.gov.br/consultas/consultaInsumo.do?d-6983528-p=6&uf=&anoFinal=2024&ano=2020&method=acaoListarConsulta&idSubGrupo=31&btnConsultar=Consultar&jcaptcha=WBLDS&idGrupo=9\n",
      "Grupo 9 | Subgrupo 31 | Página 6 | 75 registros coletados.\n",
      "https://consultaweb.conab.gov.br/consultas/consultaInsumo.do?d-6983528-p=7&uf=&anoFinal=2024&ano=2020&method=acaoListarConsulta&idSubGrupo=31&btnConsultar=Consultar&jcaptcha=WBLDS&idGrupo=9\n",
      "Grupo 9 | Subgrupo 31 | Página 7 | 75 registros coletados.\n",
      "https://consultaweb.conab.gov.br/consultas/consultaInsumo.do?d-6983528-p=8&uf=&anoFinal=2024&ano=2020&method=acaoListarConsulta&idSubGrupo=31&btnConsultar=Consultar&jcaptcha=WBLDS&idGrupo=9\n",
      "Grupo 9 | Subgrupo 31 | Página 8 | 75 registros coletados.\n",
      "https://consultaweb.conab.gov.br/consultas/consultaInsumo.do?d-6983528-p=9&uf=&anoFinal=2024&ano=2020&method=acaoListarConsulta&idSubGrupo=31&btnConsultar=Consultar&jcaptcha=WBLDS&idGrupo=9\n",
      "Grupo 9 | Subgrupo 31 | Página 9 | 75 registros coletados.\n",
      "https://consultaweb.conab.gov.br/consultas/consultaInsumo.do?d-6983528-p=10&uf=&anoFinal=2024&ano=2020&method=acaoListarConsulta&idSubGrupo=31&btnConsultar=Consultar&jcaptcha=WBLDS&idGrupo=9\n",
      "Grupo 9 | Subgrupo 31 | Página 10 | 75 registros coletados.\n",
      "https://consultaweb.conab.gov.br/consultas/consultaInsumo.do?d-6983528-p=11&uf=&anoFinal=2024&ano=2020&method=acaoListarConsulta&idSubGrupo=31&btnConsultar=Consultar&jcaptcha=WBLDS&idGrupo=9\n",
      "Grupo 9 | Subgrupo 31 | Página 11 | 75 registros coletados.\n",
      "https://consultaweb.conab.gov.br/consultas/consultaInsumo.do?d-6983528-p=12&uf=&anoFinal=2024&ano=2020&method=acaoListarConsulta&idSubGrupo=31&btnConsultar=Consultar&jcaptcha=WBLDS&idGrupo=9\n",
      "Grupo 9 | Subgrupo 31 | Página 12 | 75 registros coletados.\n",
      "https://consultaweb.conab.gov.br/consultas/consultaInsumo.do?d-6983528-p=13&uf=&anoFinal=2024&ano=2020&method=acaoListarConsulta&idSubGrupo=31&btnConsultar=Consultar&jcaptcha=WBLDS&idGrupo=9\n",
      "Grupo 9 | Subgrupo 31 | Página 13 | 75 registros coletados.\n",
      "https://consultaweb.conab.gov.br/consultas/consultaInsumo.do?d-6983528-p=14&uf=&anoFinal=2024&ano=2020&method=acaoListarConsulta&idSubGrupo=31&btnConsultar=Consultar&jcaptcha=WBLDS&idGrupo=9\n",
      "Grupo 9 | Subgrupo 31 | Página 14 | 75 registros coletados.\n",
      "https://consultaweb.conab.gov.br/consultas/consultaInsumo.do?d-6983528-p=15&uf=&anoFinal=2024&ano=2020&method=acaoListarConsulta&idSubGrupo=31&btnConsultar=Consultar&jcaptcha=WBLDS&idGrupo=9\n",
      "Grupo 9 | Subgrupo 31 | Página 15 | 75 registros coletados.\n",
      "https://consultaweb.conab.gov.br/consultas/consultaInsumo.do?d-6983528-p=16&uf=&anoFinal=2024&ano=2020&method=acaoListarConsulta&idSubGrupo=31&btnConsultar=Consultar&jcaptcha=WBLDS&idGrupo=9\n",
      "Grupo 9 | Subgrupo 31 | Página 16 | 75 registros coletados.\n",
      "https://consultaweb.conab.gov.br/consultas/consultaInsumo.do?d-6983528-p=17&uf=&anoFinal=2024&ano=2020&method=acaoListarConsulta&idSubGrupo=31&btnConsultar=Consultar&jcaptcha=WBLDS&idGrupo=9\n",
      "Grupo 9 | Subgrupo 31 | Página 17 | 75 registros coletados.\n",
      "https://consultaweb.conab.gov.br/consultas/consultaInsumo.do?d-6983528-p=18&uf=&anoFinal=2024&ano=2020&method=acaoListarConsulta&idSubGrupo=31&btnConsultar=Consultar&jcaptcha=WBLDS&idGrupo=9\n",
      "Grupo 9 | Subgrupo 31 | Página 18 | 75 registros coletados.\n",
      "https://consultaweb.conab.gov.br/consultas/consultaInsumo.do?d-6983528-p=19&uf=&anoFinal=2024&ano=2020&method=acaoListarConsulta&idSubGrupo=31&btnConsultar=Consultar&jcaptcha=WBLDS&idGrupo=9\n",
      "Grupo 9 | Subgrupo 31 | Página 19 | 61 registros coletados.\n",
      "https://consultaweb.conab.gov.br/consultas/consultaInsumo.do?d-6983528-p=20&uf=&anoFinal=2024&ano=2020&method=acaoListarConsulta&idSubGrupo=31&btnConsultar=Consultar&jcaptcha=WBLDS&idGrupo=9\n",
      "Grupo 9 | Subgrupo 31 | Página 20 | 49 registros coletados.\n",
      "https://consultaweb.conab.gov.br/consultas/consultaInsumo.do?d-6983528-p=21&uf=&anoFinal=2024&ano=2020&method=acaoListarConsulta&idSubGrupo=31&btnConsultar=Consultar&jcaptcha=WBLDS&idGrupo=9\n",
      "Grupo 9 | Subgrupo 31 | Página 21 | 12 registros coletados.\n",
      "https://consultaweb.conab.gov.br/consultas/consultaInsumo.do?d-6983528-p=22&uf=&anoFinal=2024&ano=2020&method=acaoListarConsulta&idSubGrupo=31&btnConsultar=Consultar&jcaptcha=WBLDS&idGrupo=9\n",
      "https://consultaweb.conab.gov.br/consultas/consultaInsumo.do?d-6983528-p=1&uf=&anoFinal=2024&ano=2020&method=acaoListarConsulta&idSubGrupo=33&btnConsultar=Consultar&jcaptcha=WBLDS&idGrupo=9\n",
      "Grupo 9 | Subgrupo 33 | Página 1 | 75 registros coletados.\n",
      "https://consultaweb.conab.gov.br/consultas/consultaInsumo.do?d-6983528-p=2&uf=&anoFinal=2024&ano=2020&method=acaoListarConsulta&idSubGrupo=33&btnConsultar=Consultar&jcaptcha=WBLDS&idGrupo=9\n",
      "Grupo 9 | Subgrupo 33 | Página 2 | 75 registros coletados.\n",
      "https://consultaweb.conab.gov.br/consultas/consultaInsumo.do?d-6983528-p=3&uf=&anoFinal=2024&ano=2020&method=acaoListarConsulta&idSubGrupo=33&btnConsultar=Consultar&jcaptcha=WBLDS&idGrupo=9\n",
      "Grupo 9 | Subgrupo 33 | Página 3 | 75 registros coletados.\n",
      "https://consultaweb.conab.gov.br/consultas/consultaInsumo.do?d-6983528-p=4&uf=&anoFinal=2024&ano=2020&method=acaoListarConsulta&idSubGrupo=33&btnConsultar=Consultar&jcaptcha=WBLDS&idGrupo=9\n",
      "Grupo 9 | Subgrupo 33 | Página 4 | 75 registros coletados.\n",
      "https://consultaweb.conab.gov.br/consultas/consultaInsumo.do?d-6983528-p=5&uf=&anoFinal=2024&ano=2020&method=acaoListarConsulta&idSubGrupo=33&btnConsultar=Consultar&jcaptcha=WBLDS&idGrupo=9\n",
      "Grupo 9 | Subgrupo 33 | Página 5 | 75 registros coletados.\n",
      "https://consultaweb.conab.gov.br/consultas/consultaInsumo.do?d-6983528-p=6&uf=&anoFinal=2024&ano=2020&method=acaoListarConsulta&idSubGrupo=33&btnConsultar=Consultar&jcaptcha=WBLDS&idGrupo=9\n",
      "Grupo 9 | Subgrupo 33 | Página 6 | 75 registros coletados.\n",
      "https://consultaweb.conab.gov.br/consultas/consultaInsumo.do?d-6983528-p=7&uf=&anoFinal=2024&ano=2020&method=acaoListarConsulta&idSubGrupo=33&btnConsultar=Consultar&jcaptcha=WBLDS&idGrupo=9\n",
      "Grupo 9 | Subgrupo 33 | Página 7 | 75 registros coletados.\n",
      "https://consultaweb.conab.gov.br/consultas/consultaInsumo.do?d-6983528-p=8&uf=&anoFinal=2024&ano=2020&method=acaoListarConsulta&idSubGrupo=33&btnConsultar=Consultar&jcaptcha=WBLDS&idGrupo=9\n",
      "Grupo 9 | Subgrupo 33 | Página 8 | 75 registros coletados.\n",
      "https://consultaweb.conab.gov.br/consultas/consultaInsumo.do?d-6983528-p=9&uf=&anoFinal=2024&ano=2020&method=acaoListarConsulta&idSubGrupo=33&btnConsultar=Consultar&jcaptcha=WBLDS&idGrupo=9\n",
      "Grupo 9 | Subgrupo 33 | Página 9 | 75 registros coletados.\n",
      "https://consultaweb.conab.gov.br/consultas/consultaInsumo.do?d-6983528-p=10&uf=&anoFinal=2024&ano=2020&method=acaoListarConsulta&idSubGrupo=33&btnConsultar=Consultar&jcaptcha=WBLDS&idGrupo=9\n",
      "Grupo 9 | Subgrupo 33 | Página 10 | 75 registros coletados.\n",
      "https://consultaweb.conab.gov.br/consultas/consultaInsumo.do?d-6983528-p=11&uf=&anoFinal=2024&ano=2020&method=acaoListarConsulta&idSubGrupo=33&btnConsultar=Consultar&jcaptcha=WBLDS&idGrupo=9\n",
      "Grupo 9 | Subgrupo 33 | Página 11 | 75 registros coletados.\n",
      "https://consultaweb.conab.gov.br/consultas/consultaInsumo.do?d-6983528-p=12&uf=&anoFinal=2024&ano=2020&method=acaoListarConsulta&idSubGrupo=33&btnConsultar=Consultar&jcaptcha=WBLDS&idGrupo=9\n",
      "Grupo 9 | Subgrupo 33 | Página 12 | 75 registros coletados.\n",
      "https://consultaweb.conab.gov.br/consultas/consultaInsumo.do?d-6983528-p=13&uf=&anoFinal=2024&ano=2020&method=acaoListarConsulta&idSubGrupo=33&btnConsultar=Consultar&jcaptcha=WBLDS&idGrupo=9\n",
      "Grupo 9 | Subgrupo 33 | Página 13 | 75 registros coletados.\n",
      "https://consultaweb.conab.gov.br/consultas/consultaInsumo.do?d-6983528-p=14&uf=&anoFinal=2024&ano=2020&method=acaoListarConsulta&idSubGrupo=33&btnConsultar=Consultar&jcaptcha=WBLDS&idGrupo=9\n",
      "Grupo 9 | Subgrupo 33 | Página 14 | 75 registros coletados.\n",
      "https://consultaweb.conab.gov.br/consultas/consultaInsumo.do?d-6983528-p=15&uf=&anoFinal=2024&ano=2020&method=acaoListarConsulta&idSubGrupo=33&btnConsultar=Consultar&jcaptcha=WBLDS&idGrupo=9\n",
      "Grupo 9 | Subgrupo 33 | Página 15 | 75 registros coletados.\n",
      "https://consultaweb.conab.gov.br/consultas/consultaInsumo.do?d-6983528-p=16&uf=&anoFinal=2024&ano=2020&method=acaoListarConsulta&idSubGrupo=33&btnConsultar=Consultar&jcaptcha=WBLDS&idGrupo=9\n",
      "Grupo 9 | Subgrupo 33 | Página 16 | 75 registros coletados.\n",
      "https://consultaweb.conab.gov.br/consultas/consultaInsumo.do?d-6983528-p=17&uf=&anoFinal=2024&ano=2020&method=acaoListarConsulta&idSubGrupo=33&btnConsultar=Consultar&jcaptcha=WBLDS&idGrupo=9\n",
      "Grupo 9 | Subgrupo 33 | Página 17 | 75 registros coletados.\n",
      "https://consultaweb.conab.gov.br/consultas/consultaInsumo.do?d-6983528-p=18&uf=&anoFinal=2024&ano=2020&method=acaoListarConsulta&idSubGrupo=33&btnConsultar=Consultar&jcaptcha=WBLDS&idGrupo=9\n",
      "Grupo 9 | Subgrupo 33 | Página 18 | 75 registros coletados.\n",
      "https://consultaweb.conab.gov.br/consultas/consultaInsumo.do?d-6983528-p=19&uf=&anoFinal=2024&ano=2020&method=acaoListarConsulta&idSubGrupo=33&btnConsultar=Consultar&jcaptcha=WBLDS&idGrupo=9\n",
      "Grupo 9 | Subgrupo 33 | Página 19 | 75 registros coletados.\n",
      "https://consultaweb.conab.gov.br/consultas/consultaInsumo.do?d-6983528-p=20&uf=&anoFinal=2024&ano=2020&method=acaoListarConsulta&idSubGrupo=33&btnConsultar=Consultar&jcaptcha=WBLDS&idGrupo=9\n",
      "Grupo 9 | Subgrupo 33 | Página 20 | 75 registros coletados.\n",
      "https://consultaweb.conab.gov.br/consultas/consultaInsumo.do?d-6983528-p=21&uf=&anoFinal=2024&ano=2020&method=acaoListarConsulta&idSubGrupo=33&btnConsultar=Consultar&jcaptcha=WBLDS&idGrupo=9\n",
      "Grupo 9 | Subgrupo 33 | Página 21 | 75 registros coletados.\n",
      "https://consultaweb.conab.gov.br/consultas/consultaInsumo.do?d-6983528-p=22&uf=&anoFinal=2024&ano=2020&method=acaoListarConsulta&idSubGrupo=33&btnConsultar=Consultar&jcaptcha=WBLDS&idGrupo=9\n",
      "Grupo 9 | Subgrupo 33 | Página 22 | 69 registros coletados.\n",
      "https://consultaweb.conab.gov.br/consultas/consultaInsumo.do?d-6983528-p=23&uf=&anoFinal=2024&ano=2020&method=acaoListarConsulta&idSubGrupo=33&btnConsultar=Consultar&jcaptcha=WBLDS&idGrupo=9\n",
      "Grupo 9 | Subgrupo 33 | Página 23 | 47 registros coletados.\n",
      "https://consultaweb.conab.gov.br/consultas/consultaInsumo.do?d-6983528-p=24&uf=&anoFinal=2024&ano=2020&method=acaoListarConsulta&idSubGrupo=33&btnConsultar=Consultar&jcaptcha=WBLDS&idGrupo=9\n",
      "Grupo 9 | Subgrupo 33 | Página 24 | 30 registros coletados.\n",
      "https://consultaweb.conab.gov.br/consultas/consultaInsumo.do?d-6983528-p=25&uf=&anoFinal=2024&ano=2020&method=acaoListarConsulta&idSubGrupo=33&btnConsultar=Consultar&jcaptcha=WBLDS&idGrupo=9\n",
      "Grupo 9 | Subgrupo 33 | Página 25 | 8 registros coletados.\n",
      "https://consultaweb.conab.gov.br/consultas/consultaInsumo.do?d-6983528-p=26&uf=&anoFinal=2024&ano=2020&method=acaoListarConsulta&idSubGrupo=33&btnConsultar=Consultar&jcaptcha=WBLDS&idGrupo=9\n",
      "https://consultaweb.conab.gov.br/consultas/consultaInsumo.do?d-6983528-p=1&uf=&anoFinal=2024&ano=2020&method=acaoListarConsulta&idSubGrupo=35&btnConsultar=Consultar&jcaptcha=WBLDS&idGrupo=9\n",
      "Grupo 9 | Subgrupo 35 | Página 1 | 75 registros coletados.\n",
      "https://consultaweb.conab.gov.br/consultas/consultaInsumo.do?d-6983528-p=2&uf=&anoFinal=2024&ano=2020&method=acaoListarConsulta&idSubGrupo=35&btnConsultar=Consultar&jcaptcha=WBLDS&idGrupo=9\n",
      "Grupo 9 | Subgrupo 35 | Página 2 | 48 registros coletados.\n",
      "https://consultaweb.conab.gov.br/consultas/consultaInsumo.do?d-6983528-p=3&uf=&anoFinal=2024&ano=2020&method=acaoListarConsulta&idSubGrupo=35&btnConsultar=Consultar&jcaptcha=WBLDS&idGrupo=9\n",
      "https://consultaweb.conab.gov.br/consultas/consultaInsumo.do?d-6983528-p=1&uf=&anoFinal=2024&ano=2020&method=acaoListarConsulta&idSubGrupo=32&btnConsultar=Consultar&jcaptcha=WBLDS&idGrupo=27\n",
      "Grupo 27 | Subgrupo 32 | Página 1 | 57 registros coletados.\n",
      "https://consultaweb.conab.gov.br/consultas/consultaInsumo.do?d-6983528-p=2&uf=&anoFinal=2024&ano=2020&method=acaoListarConsulta&idSubGrupo=32&btnConsultar=Consultar&jcaptcha=WBLDS&idGrupo=27\n",
      "https://consultaweb.conab.gov.br/consultas/consultaInsumo.do?d-6983528-p=1&uf=&anoFinal=2024&ano=2020&method=acaoListarConsulta&idSubGrupo=70&btnConsultar=Consultar&jcaptcha=WBLDS&idGrupo=27\n",
      "Grupo 27 | Subgrupo 70 | Página 1 | 75 registros coletados.\n",
      "https://consultaweb.conab.gov.br/consultas/consultaInsumo.do?d-6983528-p=2&uf=&anoFinal=2024&ano=2020&method=acaoListarConsulta&idSubGrupo=70&btnConsultar=Consultar&jcaptcha=WBLDS&idGrupo=27\n",
      "Grupo 27 | Subgrupo 70 | Página 2 | 28 registros coletados.\n",
      "https://consultaweb.conab.gov.br/consultas/consultaInsumo.do?d-6983528-p=3&uf=&anoFinal=2024&ano=2020&method=acaoListarConsulta&idSubGrupo=70&btnConsultar=Consultar&jcaptcha=WBLDS&idGrupo=27\n",
      "https://consultaweb.conab.gov.br/consultas/consultaInsumo.do?d-6983528-p=1&uf=&anoFinal=2024&ano=2020&method=acaoListarConsulta&idSubGrupo=71&btnConsultar=Consultar&jcaptcha=WBLDS&idGrupo=27\n",
      "Grupo 27 | Subgrupo 71 | Página 1 | 75 registros coletados.\n",
      "https://consultaweb.conab.gov.br/consultas/consultaInsumo.do?d-6983528-p=2&uf=&anoFinal=2024&ano=2020&method=acaoListarConsulta&idSubGrupo=71&btnConsultar=Consultar&jcaptcha=WBLDS&idGrupo=27\n",
      "Grupo 27 | Subgrupo 71 | Página 2 | 75 registros coletados.\n",
      "https://consultaweb.conab.gov.br/consultas/consultaInsumo.do?d-6983528-p=3&uf=&anoFinal=2024&ano=2020&method=acaoListarConsulta&idSubGrupo=71&btnConsultar=Consultar&jcaptcha=WBLDS&idGrupo=27\n",
      "Grupo 27 | Subgrupo 71 | Página 3 | 75 registros coletados.\n",
      "https://consultaweb.conab.gov.br/consultas/consultaInsumo.do?d-6983528-p=4&uf=&anoFinal=2024&ano=2020&method=acaoListarConsulta&idSubGrupo=71&btnConsultar=Consultar&jcaptcha=WBLDS&idGrupo=27\n",
      "Grupo 27 | Subgrupo 71 | Página 4 | 75 registros coletados.\n",
      "https://consultaweb.conab.gov.br/consultas/consultaInsumo.do?d-6983528-p=5&uf=&anoFinal=2024&ano=2020&method=acaoListarConsulta&idSubGrupo=71&btnConsultar=Consultar&jcaptcha=WBLDS&idGrupo=27\n",
      "Grupo 27 | Subgrupo 71 | Página 5 | 75 registros coletados.\n",
      "https://consultaweb.conab.gov.br/consultas/consultaInsumo.do?d-6983528-p=6&uf=&anoFinal=2024&ano=2020&method=acaoListarConsulta&idSubGrupo=71&btnConsultar=Consultar&jcaptcha=WBLDS&idGrupo=27\n",
      "Grupo 27 | Subgrupo 71 | Página 6 | 75 registros coletados.\n",
      "https://consultaweb.conab.gov.br/consultas/consultaInsumo.do?d-6983528-p=7&uf=&anoFinal=2024&ano=2020&method=acaoListarConsulta&idSubGrupo=71&btnConsultar=Consultar&jcaptcha=WBLDS&idGrupo=27\n",
      "Grupo 27 | Subgrupo 71 | Página 7 | 75 registros coletados.\n",
      "https://consultaweb.conab.gov.br/consultas/consultaInsumo.do?d-6983528-p=8&uf=&anoFinal=2024&ano=2020&method=acaoListarConsulta&idSubGrupo=71&btnConsultar=Consultar&jcaptcha=WBLDS&idGrupo=27\n",
      "Grupo 27 | Subgrupo 71 | Página 8 | 75 registros coletados.\n",
      "https://consultaweb.conab.gov.br/consultas/consultaInsumo.do?d-6983528-p=9&uf=&anoFinal=2024&ano=2020&method=acaoListarConsulta&idSubGrupo=71&btnConsultar=Consultar&jcaptcha=WBLDS&idGrupo=27\n",
      "Grupo 27 | Subgrupo 71 | Página 9 | 75 registros coletados.\n",
      "https://consultaweb.conab.gov.br/consultas/consultaInsumo.do?d-6983528-p=10&uf=&anoFinal=2024&ano=2020&method=acaoListarConsulta&idSubGrupo=71&btnConsultar=Consultar&jcaptcha=WBLDS&idGrupo=27\n",
      "Grupo 27 | Subgrupo 71 | Página 10 | 75 registros coletados.\n",
      "https://consultaweb.conab.gov.br/consultas/consultaInsumo.do?d-6983528-p=11&uf=&anoFinal=2024&ano=2020&method=acaoListarConsulta&idSubGrupo=71&btnConsultar=Consultar&jcaptcha=WBLDS&idGrupo=27\n",
      "Grupo 27 | Subgrupo 71 | Página 11 | 75 registros coletados.\n",
      "https://consultaweb.conab.gov.br/consultas/consultaInsumo.do?d-6983528-p=12&uf=&anoFinal=2024&ano=2020&method=acaoListarConsulta&idSubGrupo=71&btnConsultar=Consultar&jcaptcha=WBLDS&idGrupo=27\n",
      "Grupo 27 | Subgrupo 71 | Página 12 | 75 registros coletados.\n",
      "https://consultaweb.conab.gov.br/consultas/consultaInsumo.do?d-6983528-p=13&uf=&anoFinal=2024&ano=2020&method=acaoListarConsulta&idSubGrupo=71&btnConsultar=Consultar&jcaptcha=WBLDS&idGrupo=27\n",
      "Grupo 27 | Subgrupo 71 | Página 13 | 75 registros coletados.\n",
      "https://consultaweb.conab.gov.br/consultas/consultaInsumo.do?d-6983528-p=14&uf=&anoFinal=2024&ano=2020&method=acaoListarConsulta&idSubGrupo=71&btnConsultar=Consultar&jcaptcha=WBLDS&idGrupo=27\n",
      "Grupo 27 | Subgrupo 71 | Página 14 | 75 registros coletados.\n",
      "https://consultaweb.conab.gov.br/consultas/consultaInsumo.do?d-6983528-p=15&uf=&anoFinal=2024&ano=2020&method=acaoListarConsulta&idSubGrupo=71&btnConsultar=Consultar&jcaptcha=WBLDS&idGrupo=27\n",
      "Grupo 27 | Subgrupo 71 | Página 15 | 75 registros coletados.\n",
      "https://consultaweb.conab.gov.br/consultas/consultaInsumo.do?d-6983528-p=16&uf=&anoFinal=2024&ano=2020&method=acaoListarConsulta&idSubGrupo=71&btnConsultar=Consultar&jcaptcha=WBLDS&idGrupo=27\n",
      "Grupo 27 | Subgrupo 71 | Página 16 | 75 registros coletados.\n",
      "https://consultaweb.conab.gov.br/consultas/consultaInsumo.do?d-6983528-p=17&uf=&anoFinal=2024&ano=2020&method=acaoListarConsulta&idSubGrupo=71&btnConsultar=Consultar&jcaptcha=WBLDS&idGrupo=27\n",
      "Grupo 27 | Subgrupo 71 | Página 17 | 75 registros coletados.\n",
      "https://consultaweb.conab.gov.br/consultas/consultaInsumo.do?d-6983528-p=18&uf=&anoFinal=2024&ano=2020&method=acaoListarConsulta&idSubGrupo=71&btnConsultar=Consultar&jcaptcha=WBLDS&idGrupo=27\n",
      "Grupo 27 | Subgrupo 71 | Página 18 | 75 registros coletados.\n",
      "https://consultaweb.conab.gov.br/consultas/consultaInsumo.do?d-6983528-p=19&uf=&anoFinal=2024&ano=2020&method=acaoListarConsulta&idSubGrupo=71&btnConsultar=Consultar&jcaptcha=WBLDS&idGrupo=27\n",
      "Grupo 27 | Subgrupo 71 | Página 19 | 75 registros coletados.\n",
      "https://consultaweb.conab.gov.br/consultas/consultaInsumo.do?d-6983528-p=20&uf=&anoFinal=2024&ano=2020&method=acaoListarConsulta&idSubGrupo=71&btnConsultar=Consultar&jcaptcha=WBLDS&idGrupo=27\n",
      "Grupo 27 | Subgrupo 71 | Página 20 | 75 registros coletados.\n",
      "https://consultaweb.conab.gov.br/consultas/consultaInsumo.do?d-6983528-p=21&uf=&anoFinal=2024&ano=2020&method=acaoListarConsulta&idSubGrupo=71&btnConsultar=Consultar&jcaptcha=WBLDS&idGrupo=27\n",
      "Grupo 27 | Subgrupo 71 | Página 21 | 75 registros coletados.\n",
      "https://consultaweb.conab.gov.br/consultas/consultaInsumo.do?d-6983528-p=22&uf=&anoFinal=2024&ano=2020&method=acaoListarConsulta&idSubGrupo=71&btnConsultar=Consultar&jcaptcha=WBLDS&idGrupo=27\n",
      "Grupo 27 | Subgrupo 71 | Página 22 | 75 registros coletados.\n",
      "https://consultaweb.conab.gov.br/consultas/consultaInsumo.do?d-6983528-p=23&uf=&anoFinal=2024&ano=2020&method=acaoListarConsulta&idSubGrupo=71&btnConsultar=Consultar&jcaptcha=WBLDS&idGrupo=27\n",
      "Grupo 27 | Subgrupo 71 | Página 23 | 75 registros coletados.\n",
      "https://consultaweb.conab.gov.br/consultas/consultaInsumo.do?d-6983528-p=24&uf=&anoFinal=2024&ano=2020&method=acaoListarConsulta&idSubGrupo=71&btnConsultar=Consultar&jcaptcha=WBLDS&idGrupo=27\n",
      "Grupo 27 | Subgrupo 71 | Página 24 | 75 registros coletados.\n",
      "https://consultaweb.conab.gov.br/consultas/consultaInsumo.do?d-6983528-p=25&uf=&anoFinal=2024&ano=2020&method=acaoListarConsulta&idSubGrupo=71&btnConsultar=Consultar&jcaptcha=WBLDS&idGrupo=27\n",
      "Grupo 27 | Subgrupo 71 | Página 25 | 75 registros coletados.\n",
      "https://consultaweb.conab.gov.br/consultas/consultaInsumo.do?d-6983528-p=26&uf=&anoFinal=2024&ano=2020&method=acaoListarConsulta&idSubGrupo=71&btnConsultar=Consultar&jcaptcha=WBLDS&idGrupo=27\n",
      "Grupo 27 | Subgrupo 71 | Página 26 | 61 registros coletados.\n",
      "https://consultaweb.conab.gov.br/consultas/consultaInsumo.do?d-6983528-p=27&uf=&anoFinal=2024&ano=2020&method=acaoListarConsulta&idSubGrupo=71&btnConsultar=Consultar&jcaptcha=WBLDS&idGrupo=27\n",
      "Grupo 27 | Subgrupo 71 | Página 27 | 45 registros coletados.\n",
      "https://consultaweb.conab.gov.br/consultas/consultaInsumo.do?d-6983528-p=28&uf=&anoFinal=2024&ano=2020&method=acaoListarConsulta&idSubGrupo=71&btnConsultar=Consultar&jcaptcha=WBLDS&idGrupo=27\n",
      "Grupo 27 | Subgrupo 71 | Página 28 | 27 registros coletados.\n",
      "https://consultaweb.conab.gov.br/consultas/consultaInsumo.do?d-6983528-p=29&uf=&anoFinal=2024&ano=2020&method=acaoListarConsulta&idSubGrupo=71&btnConsultar=Consultar&jcaptcha=WBLDS&idGrupo=27\n",
      "Grupo 27 | Subgrupo 71 | Página 29 | 3 registros coletados.\n",
      "https://consultaweb.conab.gov.br/consultas/consultaInsumo.do?d-6983528-p=30&uf=&anoFinal=2024&ano=2020&method=acaoListarConsulta&idSubGrupo=71&btnConsultar=Consultar&jcaptcha=WBLDS&idGrupo=27\n",
      "https://consultaweb.conab.gov.br/consultas/consultaInsumo.do?d-6983528-p=1&uf=&anoFinal=2024&ano=2020&method=acaoListarConsulta&idSubGrupo=127&btnConsultar=Consultar&jcaptcha=WBLDS&idGrupo=31\n",
      "Grupo 31 | Subgrupo 127 | Página 1 | 8 registros coletados.\n",
      "https://consultaweb.conab.gov.br/consultas/consultaInsumo.do?d-6983528-p=2&uf=&anoFinal=2024&ano=2020&method=acaoListarConsulta&idSubGrupo=127&btnConsultar=Consultar&jcaptcha=WBLDS&idGrupo=31\n",
      "https://consultaweb.conab.gov.br/consultas/consultaInsumo.do?d-6983528-p=1&uf=&anoFinal=2024&ano=2020&method=acaoListarConsulta&idSubGrupo=128&btnConsultar=Consultar&jcaptcha=WBLDS&idGrupo=31\n",
      "Grupo 31 | Subgrupo 128 | Página 1 | 75 registros coletados.\n",
      "https://consultaweb.conab.gov.br/consultas/consultaInsumo.do?d-6983528-p=2&uf=&anoFinal=2024&ano=2020&method=acaoListarConsulta&idSubGrupo=128&btnConsultar=Consultar&jcaptcha=WBLDS&idGrupo=31\n",
      "Grupo 31 | Subgrupo 128 | Página 2 | 50 registros coletados.\n",
      "https://consultaweb.conab.gov.br/consultas/consultaInsumo.do?d-6983528-p=3&uf=&anoFinal=2024&ano=2020&method=acaoListarConsulta&idSubGrupo=128&btnConsultar=Consultar&jcaptcha=WBLDS&idGrupo=31\n",
      "https://consultaweb.conab.gov.br/consultas/consultaInsumo.do?d-6983528-p=1&uf=&anoFinal=2024&ano=2020&method=acaoListarConsulta&idSubGrupo=129&btnConsultar=Consultar&jcaptcha=WBLDS&idGrupo=31\n",
      "Grupo 31 | Subgrupo 129 | Página 1 | 75 registros coletados.\n",
      "https://consultaweb.conab.gov.br/consultas/consultaInsumo.do?d-6983528-p=2&uf=&anoFinal=2024&ano=2020&method=acaoListarConsulta&idSubGrupo=129&btnConsultar=Consultar&jcaptcha=WBLDS&idGrupo=31\n",
      "Grupo 31 | Subgrupo 129 | Página 2 | 75 registros coletados.\n",
      "https://consultaweb.conab.gov.br/consultas/consultaInsumo.do?d-6983528-p=3&uf=&anoFinal=2024&ano=2020&method=acaoListarConsulta&idSubGrupo=129&btnConsultar=Consultar&jcaptcha=WBLDS&idGrupo=31\n",
      "Grupo 31 | Subgrupo 129 | Página 3 | 75 registros coletados.\n",
      "https://consultaweb.conab.gov.br/consultas/consultaInsumo.do?d-6983528-p=4&uf=&anoFinal=2024&ano=2020&method=acaoListarConsulta&idSubGrupo=129&btnConsultar=Consultar&jcaptcha=WBLDS&idGrupo=31\n",
      "Grupo 31 | Subgrupo 129 | Página 4 | 75 registros coletados.\n",
      "https://consultaweb.conab.gov.br/consultas/consultaInsumo.do?d-6983528-p=5&uf=&anoFinal=2024&ano=2020&method=acaoListarConsulta&idSubGrupo=129&btnConsultar=Consultar&jcaptcha=WBLDS&idGrupo=31\n",
      "Grupo 31 | Subgrupo 129 | Página 5 | 75 registros coletados.\n",
      "https://consultaweb.conab.gov.br/consultas/consultaInsumo.do?d-6983528-p=6&uf=&anoFinal=2024&ano=2020&method=acaoListarConsulta&idSubGrupo=129&btnConsultar=Consultar&jcaptcha=WBLDS&idGrupo=31\n",
      "Grupo 31 | Subgrupo 129 | Página 6 | 75 registros coletados.\n",
      "https://consultaweb.conab.gov.br/consultas/consultaInsumo.do?d-6983528-p=7&uf=&anoFinal=2024&ano=2020&method=acaoListarConsulta&idSubGrupo=129&btnConsultar=Consultar&jcaptcha=WBLDS&idGrupo=31\n",
      "Grupo 31 | Subgrupo 129 | Página 7 | 75 registros coletados.\n",
      "https://consultaweb.conab.gov.br/consultas/consultaInsumo.do?d-6983528-p=8&uf=&anoFinal=2024&ano=2020&method=acaoListarConsulta&idSubGrupo=129&btnConsultar=Consultar&jcaptcha=WBLDS&idGrupo=31\n",
      "Grupo 31 | Subgrupo 129 | Página 8 | 75 registros coletados.\n",
      "https://consultaweb.conab.gov.br/consultas/consultaInsumo.do?d-6983528-p=9&uf=&anoFinal=2024&ano=2020&method=acaoListarConsulta&idSubGrupo=129&btnConsultar=Consultar&jcaptcha=WBLDS&idGrupo=31\n",
      "Grupo 31 | Subgrupo 129 | Página 9 | 75 registros coletados.\n",
      "https://consultaweb.conab.gov.br/consultas/consultaInsumo.do?d-6983528-p=10&uf=&anoFinal=2024&ano=2020&method=acaoListarConsulta&idSubGrupo=129&btnConsultar=Consultar&jcaptcha=WBLDS&idGrupo=31\n",
      "Grupo 31 | Subgrupo 129 | Página 10 | 75 registros coletados.\n",
      "https://consultaweb.conab.gov.br/consultas/consultaInsumo.do?d-6983528-p=11&uf=&anoFinal=2024&ano=2020&method=acaoListarConsulta&idSubGrupo=129&btnConsultar=Consultar&jcaptcha=WBLDS&idGrupo=31\n",
      "Grupo 31 | Subgrupo 129 | Página 11 | 75 registros coletados.\n",
      "https://consultaweb.conab.gov.br/consultas/consultaInsumo.do?d-6983528-p=12&uf=&anoFinal=2024&ano=2020&method=acaoListarConsulta&idSubGrupo=129&btnConsultar=Consultar&jcaptcha=WBLDS&idGrupo=31\n",
      "Grupo 31 | Subgrupo 129 | Página 12 | 75 registros coletados.\n",
      "https://consultaweb.conab.gov.br/consultas/consultaInsumo.do?d-6983528-p=13&uf=&anoFinal=2024&ano=2020&method=acaoListarConsulta&idSubGrupo=129&btnConsultar=Consultar&jcaptcha=WBLDS&idGrupo=31\n",
      "Grupo 31 | Subgrupo 129 | Página 13 | 75 registros coletados.\n",
      "https://consultaweb.conab.gov.br/consultas/consultaInsumo.do?d-6983528-p=14&uf=&anoFinal=2024&ano=2020&method=acaoListarConsulta&idSubGrupo=129&btnConsultar=Consultar&jcaptcha=WBLDS&idGrupo=31\n",
      "Grupo 31 | Subgrupo 129 | Página 14 | 75 registros coletados.\n",
      "https://consultaweb.conab.gov.br/consultas/consultaInsumo.do?d-6983528-p=15&uf=&anoFinal=2024&ano=2020&method=acaoListarConsulta&idSubGrupo=129&btnConsultar=Consultar&jcaptcha=WBLDS&idGrupo=31\n",
      "Grupo 31 | Subgrupo 129 | Página 15 | 75 registros coletados.\n",
      "https://consultaweb.conab.gov.br/consultas/consultaInsumo.do?d-6983528-p=16&uf=&anoFinal=2024&ano=2020&method=acaoListarConsulta&idSubGrupo=129&btnConsultar=Consultar&jcaptcha=WBLDS&idGrupo=31\n",
      "Grupo 31 | Subgrupo 129 | Página 16 | 75 registros coletados.\n",
      "https://consultaweb.conab.gov.br/consultas/consultaInsumo.do?d-6983528-p=17&uf=&anoFinal=2024&ano=2020&method=acaoListarConsulta&idSubGrupo=129&btnConsultar=Consultar&jcaptcha=WBLDS&idGrupo=31\n",
      "Grupo 31 | Subgrupo 129 | Página 17 | 75 registros coletados.\n",
      "https://consultaweb.conab.gov.br/consultas/consultaInsumo.do?d-6983528-p=18&uf=&anoFinal=2024&ano=2020&method=acaoListarConsulta&idSubGrupo=129&btnConsultar=Consultar&jcaptcha=WBLDS&idGrupo=31\n",
      "Grupo 31 | Subgrupo 129 | Página 18 | 75 registros coletados.\n",
      "https://consultaweb.conab.gov.br/consultas/consultaInsumo.do?d-6983528-p=19&uf=&anoFinal=2024&ano=2020&method=acaoListarConsulta&idSubGrupo=129&btnConsultar=Consultar&jcaptcha=WBLDS&idGrupo=31\n",
      "Grupo 31 | Subgrupo 129 | Página 19 | 75 registros coletados.\n",
      "https://consultaweb.conab.gov.br/consultas/consultaInsumo.do?d-6983528-p=20&uf=&anoFinal=2024&ano=2020&method=acaoListarConsulta&idSubGrupo=129&btnConsultar=Consultar&jcaptcha=WBLDS&idGrupo=31\n",
      "Grupo 31 | Subgrupo 129 | Página 20 | 75 registros coletados.\n",
      "https://consultaweb.conab.gov.br/consultas/consultaInsumo.do?d-6983528-p=21&uf=&anoFinal=2024&ano=2020&method=acaoListarConsulta&idSubGrupo=129&btnConsultar=Consultar&jcaptcha=WBLDS&idGrupo=31\n",
      "Grupo 31 | Subgrupo 129 | Página 21 | 75 registros coletados.\n",
      "https://consultaweb.conab.gov.br/consultas/consultaInsumo.do?d-6983528-p=22&uf=&anoFinal=2024&ano=2020&method=acaoListarConsulta&idSubGrupo=129&btnConsultar=Consultar&jcaptcha=WBLDS&idGrupo=31\n",
      "Grupo 31 | Subgrupo 129 | Página 22 | 75 registros coletados.\n",
      "https://consultaweb.conab.gov.br/consultas/consultaInsumo.do?d-6983528-p=23&uf=&anoFinal=2024&ano=2020&method=acaoListarConsulta&idSubGrupo=129&btnConsultar=Consultar&jcaptcha=WBLDS&idGrupo=31\n",
      "Grupo 31 | Subgrupo 129 | Página 23 | 75 registros coletados.\n",
      "https://consultaweb.conab.gov.br/consultas/consultaInsumo.do?d-6983528-p=24&uf=&anoFinal=2024&ano=2020&method=acaoListarConsulta&idSubGrupo=129&btnConsultar=Consultar&jcaptcha=WBLDS&idGrupo=31\n",
      "Grupo 31 | Subgrupo 129 | Página 24 | 75 registros coletados.\n",
      "https://consultaweb.conab.gov.br/consultas/consultaInsumo.do?d-6983528-p=25&uf=&anoFinal=2024&ano=2020&method=acaoListarConsulta&idSubGrupo=129&btnConsultar=Consultar&jcaptcha=WBLDS&idGrupo=31\n",
      "Grupo 31 | Subgrupo 129 | Página 25 | 75 registros coletados.\n",
      "https://consultaweb.conab.gov.br/consultas/consultaInsumo.do?d-6983528-p=26&uf=&anoFinal=2024&ano=2020&method=acaoListarConsulta&idSubGrupo=129&btnConsultar=Consultar&jcaptcha=WBLDS&idGrupo=31\n",
      "Grupo 31 | Subgrupo 129 | Página 26 | 56 registros coletados.\n",
      "https://consultaweb.conab.gov.br/consultas/consultaInsumo.do?d-6983528-p=27&uf=&anoFinal=2024&ano=2020&method=acaoListarConsulta&idSubGrupo=129&btnConsultar=Consultar&jcaptcha=WBLDS&idGrupo=31\n",
      "Grupo 31 | Subgrupo 129 | Página 27 | 41 registros coletados.\n",
      "https://consultaweb.conab.gov.br/consultas/consultaInsumo.do?d-6983528-p=28&uf=&anoFinal=2024&ano=2020&method=acaoListarConsulta&idSubGrupo=129&btnConsultar=Consultar&jcaptcha=WBLDS&idGrupo=31\n",
      "Grupo 31 | Subgrupo 129 | Página 28 | 25 registros coletados.\n",
      "https://consultaweb.conab.gov.br/consultas/consultaInsumo.do?d-6983528-p=29&uf=&anoFinal=2024&ano=2020&method=acaoListarConsulta&idSubGrupo=129&btnConsultar=Consultar&jcaptcha=WBLDS&idGrupo=31\n",
      "Grupo 31 | Subgrupo 129 | Página 29 | 7 registros coletados.\n",
      "https://consultaweb.conab.gov.br/consultas/consultaInsumo.do?d-6983528-p=30&uf=&anoFinal=2024&ano=2020&method=acaoListarConsulta&idSubGrupo=129&btnConsultar=Consultar&jcaptcha=WBLDS&idGrupo=31\n",
      "https://consultaweb.conab.gov.br/consultas/consultaInsumo.do?d-6983528-p=1&uf=&anoFinal=2024&ano=2020&method=acaoListarConsulta&idSubGrupo=137&btnConsultar=Consultar&jcaptcha=WBLDS&idGrupo=57\n",
      "Grupo 57 | Subgrupo 137 | Página 1 | 75 registros coletados.\n",
      "https://consultaweb.conab.gov.br/consultas/consultaInsumo.do?d-6983528-p=2&uf=&anoFinal=2024&ano=2020&method=acaoListarConsulta&idSubGrupo=137&btnConsultar=Consultar&jcaptcha=WBLDS&idGrupo=57\n",
      "Grupo 57 | Subgrupo 137 | Página 2 | 75 registros coletados.\n",
      "https://consultaweb.conab.gov.br/consultas/consultaInsumo.do?d-6983528-p=3&uf=&anoFinal=2024&ano=2020&method=acaoListarConsulta&idSubGrupo=137&btnConsultar=Consultar&jcaptcha=WBLDS&idGrupo=57\n",
      "Grupo 57 | Subgrupo 137 | Página 3 | 75 registros coletados.\n",
      "https://consultaweb.conab.gov.br/consultas/consultaInsumo.do?d-6983528-p=4&uf=&anoFinal=2024&ano=2020&method=acaoListarConsulta&idSubGrupo=137&btnConsultar=Consultar&jcaptcha=WBLDS&idGrupo=57\n",
      "Grupo 57 | Subgrupo 137 | Página 4 | 75 registros coletados.\n",
      "https://consultaweb.conab.gov.br/consultas/consultaInsumo.do?d-6983528-p=5&uf=&anoFinal=2024&ano=2020&method=acaoListarConsulta&idSubGrupo=137&btnConsultar=Consultar&jcaptcha=WBLDS&idGrupo=57\n",
      "Grupo 57 | Subgrupo 137 | Página 5 | 75 registros coletados.\n",
      "https://consultaweb.conab.gov.br/consultas/consultaInsumo.do?d-6983528-p=6&uf=&anoFinal=2024&ano=2020&method=acaoListarConsulta&idSubGrupo=137&btnConsultar=Consultar&jcaptcha=WBLDS&idGrupo=57\n",
      "Grupo 57 | Subgrupo 137 | Página 6 | 75 registros coletados.\n",
      "https://consultaweb.conab.gov.br/consultas/consultaInsumo.do?d-6983528-p=7&uf=&anoFinal=2024&ano=2020&method=acaoListarConsulta&idSubGrupo=137&btnConsultar=Consultar&jcaptcha=WBLDS&idGrupo=57\n",
      "Grupo 57 | Subgrupo 137 | Página 7 | 73 registros coletados.\n",
      "https://consultaweb.conab.gov.br/consultas/consultaInsumo.do?d-6983528-p=8&uf=&anoFinal=2024&ano=2020&method=acaoListarConsulta&idSubGrupo=137&btnConsultar=Consultar&jcaptcha=WBLDS&idGrupo=57\n",
      "Grupo 57 | Subgrupo 137 | Página 8 | 56 registros coletados.\n",
      "https://consultaweb.conab.gov.br/consultas/consultaInsumo.do?d-6983528-p=9&uf=&anoFinal=2024&ano=2020&method=acaoListarConsulta&idSubGrupo=137&btnConsultar=Consultar&jcaptcha=WBLDS&idGrupo=57\n",
      "Grupo 57 | Subgrupo 137 | Página 9 | 38 registros coletados.\n",
      "https://consultaweb.conab.gov.br/consultas/consultaInsumo.do?d-6983528-p=10&uf=&anoFinal=2024&ano=2020&method=acaoListarConsulta&idSubGrupo=137&btnConsultar=Consultar&jcaptcha=WBLDS&idGrupo=57\n",
      "Grupo 57 | Subgrupo 137 | Página 10 | 22 registros coletados.\n",
      "https://consultaweb.conab.gov.br/consultas/consultaInsumo.do?d-6983528-p=11&uf=&anoFinal=2024&ano=2020&method=acaoListarConsulta&idSubGrupo=137&btnConsultar=Consultar&jcaptcha=WBLDS&idGrupo=57\n",
      "Grupo 57 | Subgrupo 137 | Página 11 | 1 registros coletados.\n",
      "https://consultaweb.conab.gov.br/consultas/consultaInsumo.do?d-6983528-p=12&uf=&anoFinal=2024&ano=2020&method=acaoListarConsulta&idSubGrupo=137&btnConsultar=Consultar&jcaptcha=WBLDS&idGrupo=57\n",
      "https://consultaweb.conab.gov.br/consultas/consultaInsumo.do?d-6983528-p=1&uf=&anoFinal=2024&ano=2020&method=acaoListarConsulta&idSubGrupo=319&btnConsultar=Consultar&jcaptcha=WBLDS&idGrupo=57\n",
      "Grupo 57 | Subgrupo 319 | Página 1 | 17 registros coletados.\n",
      "https://consultaweb.conab.gov.br/consultas/consultaInsumo.do?d-6983528-p=2&uf=&anoFinal=2024&ano=2020&method=acaoListarConsulta&idSubGrupo=319&btnConsultar=Consultar&jcaptcha=WBLDS&idGrupo=57\n",
      "https://consultaweb.conab.gov.br/consultas/consultaInsumo.do?d-6983528-p=1&uf=&anoFinal=2024&ano=2020&method=acaoListarConsulta&idSubGrupo=339&btnConsultar=Consultar&jcaptcha=WBLDS&idGrupo=57\n",
      "Grupo 57 | Subgrupo 339 | Página 1 | 18 registros coletados.\n",
      "https://consultaweb.conab.gov.br/consultas/consultaInsumo.do?d-6983528-p=2&uf=&anoFinal=2024&ano=2020&method=acaoListarConsulta&idSubGrupo=339&btnConsultar=Consultar&jcaptcha=WBLDS&idGrupo=57\n",
      "https://consultaweb.conab.gov.br/consultas/consultaInsumo.do?d-6983528-p=1&uf=&anoFinal=2024&ano=2020&method=acaoListarConsulta&idSubGrupo=139&btnConsultar=Consultar&jcaptcha=WBLDS&idGrupo=39\n",
      "Grupo 39 | Subgrupo 139 | Página 1 | 75 registros coletados.\n",
      "https://consultaweb.conab.gov.br/consultas/consultaInsumo.do?d-6983528-p=2&uf=&anoFinal=2024&ano=2020&method=acaoListarConsulta&idSubGrupo=139&btnConsultar=Consultar&jcaptcha=WBLDS&idGrupo=39\n",
      "Grupo 39 | Subgrupo 139 | Página 2 | 49 registros coletados.\n",
      "https://consultaweb.conab.gov.br/consultas/consultaInsumo.do?d-6983528-p=3&uf=&anoFinal=2024&ano=2020&method=acaoListarConsulta&idSubGrupo=139&btnConsultar=Consultar&jcaptcha=WBLDS&idGrupo=39\n",
      "https://consultaweb.conab.gov.br/consultas/consultaInsumo.do?d-6983528-p=1&uf=&anoFinal=2024&ano=2020&method=acaoListarConsulta&idSubGrupo=140&btnConsultar=Consultar&jcaptcha=WBLDS&idGrupo=39\n",
      "Grupo 39 | Subgrupo 140 | Página 1 | 75 registros coletados.\n",
      "https://consultaweb.conab.gov.br/consultas/consultaInsumo.do?d-6983528-p=2&uf=&anoFinal=2024&ano=2020&method=acaoListarConsulta&idSubGrupo=140&btnConsultar=Consultar&jcaptcha=WBLDS&idGrupo=39\n",
      "Grupo 39 | Subgrupo 140 | Página 2 | 75 registros coletados.\n",
      "https://consultaweb.conab.gov.br/consultas/consultaInsumo.do?d-6983528-p=3&uf=&anoFinal=2024&ano=2020&method=acaoListarConsulta&idSubGrupo=140&btnConsultar=Consultar&jcaptcha=WBLDS&idGrupo=39\n",
      "Grupo 39 | Subgrupo 140 | Página 3 | 75 registros coletados.\n",
      "https://consultaweb.conab.gov.br/consultas/consultaInsumo.do?d-6983528-p=4&uf=&anoFinal=2024&ano=2020&method=acaoListarConsulta&idSubGrupo=140&btnConsultar=Consultar&jcaptcha=WBLDS&idGrupo=39\n",
      "Grupo 39 | Subgrupo 140 | Página 4 | 75 registros coletados.\n",
      "https://consultaweb.conab.gov.br/consultas/consultaInsumo.do?d-6983528-p=5&uf=&anoFinal=2024&ano=2020&method=acaoListarConsulta&idSubGrupo=140&btnConsultar=Consultar&jcaptcha=WBLDS&idGrupo=39\n",
      "Grupo 39 | Subgrupo 140 | Página 5 | 58 registros coletados.\n",
      "https://consultaweb.conab.gov.br/consultas/consultaInsumo.do?d-6983528-p=6&uf=&anoFinal=2024&ano=2020&method=acaoListarConsulta&idSubGrupo=140&btnConsultar=Consultar&jcaptcha=WBLDS&idGrupo=39\n",
      "Grupo 39 | Subgrupo 140 | Página 6 | 22 registros coletados.\n",
      "https://consultaweb.conab.gov.br/consultas/consultaInsumo.do?d-6983528-p=7&uf=&anoFinal=2024&ano=2020&method=acaoListarConsulta&idSubGrupo=140&btnConsultar=Consultar&jcaptcha=WBLDS&idGrupo=39\n",
      "https://consultaweb.conab.gov.br/consultas/consultaInsumo.do?d-6983528-p=1&uf=&anoFinal=2024&ano=2020&method=acaoListarConsulta&idSubGrupo=322&btnConsultar=Consultar&jcaptcha=WBLDS&idGrupo=39\n",
      "Grupo 39 | Subgrupo 322 | Página 1 | 13 registros coletados.\n",
      "https://consultaweb.conab.gov.br/consultas/consultaInsumo.do?d-6983528-p=2&uf=&anoFinal=2024&ano=2020&method=acaoListarConsulta&idSubGrupo=322&btnConsultar=Consultar&jcaptcha=WBLDS&idGrupo=39\n"
     ]
    }
   ],
   "source": [
    "# Loop para cada combinação de grupo e subgrupo\n",
    "for id_grupo, subgrupos in grupos_subgrupos.items():\n",
    "    for id_subgrupo in subgrupos:\n",
    "        pagina = 1  # Começa na primeira página\n",
    "        \n",
    "        while True:\n",
    "            # Parâmetros da requisição\n",
    "            parametros = {\n",
    "                \"d-6983528-p\": pagina,\n",
    "                \"uf\": \"\",\n",
    "                \"anoFinal\": ANO_FINAL,\n",
    "                \"ano\": ANO_INICIAL,\n",
    "                \"method\": \"acaoListarConsulta\",\n",
    "                \"idSubGrupo\": id_subgrupo,\n",
    "                \"btnConsultar\": \"Consultar\",\n",
    "                \"jcaptcha\": JCAPTCHA,\n",
    "                \"idGrupo\": id_grupo    \n",
    "            }\n",
    "            \n",
    "            resposta = requests.get(url, params=parametros) # Fazendo a requisição\n",
    "            \n",
    "            print(resposta.url)\n",
    "            \n",
    "            # Verifica se a requisição foi bem-sucedida\n",
    "            if resposta.status_code != 200:\n",
    "                print(f\"Erro ao acessar {resposta.url}: {resposta.status_code}\")\n",
    "                break\n",
    "            \n",
    "            soup = BeautifulSoup(resposta.text, 'html.parser') # Parseando a página\n",
    "            table = soup.find('table', {'id': 'tabelaInsumo'}) # Encontra a tabela\n",
    "            \n",
    "            # Se não há dados, paramos a iteração\n",
    "            if table is None:\n",
    "                break\n",
    "            \n",
    "            # Na primeira iteração, extrai os headers\n",
    "            if pagina == 1 and not data:\n",
    "                for i in table.find_all('th'):\n",
    "                    title = i.text.strip()\n",
    "                    headers.append(title)\n",
    "                headers.extend(['Grupo', 'Subgrupo']) # Acrescenta os headers de grupo e subgrupo\n",
    "            \n",
    "            page_data = [] # Lista para armazenar os dados da página\n",
    "            \n",
    "            # Extraindo dados da tabela\n",
    "            for row in table.find_all('tr')[1:]:\n",
    "                cols = row.find_all('td')\n",
    "                row_data = [col.text.replace('\\n', '').strip() for col in cols]\n",
    "                grupo_valor = grupos_nomes.get(id_grupo) # Pega o valor(nome) do grupo pelo id_grupo\n",
    "                subgrupo_valor = subgrupos_nomes.get(id_subgrupo) # Pega o valor(nome) do subgrupo pelo id_subgrupo\n",
    "                row_data.extend([grupo_valor, subgrupo_valor]) # Adiciona o valor(nome) do grupo e subgrupo\n",
    "                page_data.append(row_data)\n",
    "            \n",
    "            data.extend(page_data) # Armazena os dados coletados\n",
    "            \n",
    "            print(f\"Grupo {id_grupo} | Subgrupo {id_subgrupo} | Página {pagina} | {len(page_data)} registros coletados.\")\n",
    "            \n",
    "            pagina += 1 # Próxima página\n",
    "            \n",
    "            time.sleep(1) # Adiciona um pequeno delay para evitar sobrecarga no servidor"
   ]
  },
  {
   "cell_type": "markdown",
   "metadata": {},
   "source": [
    "Após a extração de todos os dados do site, vamos converte-los para um dataframe e salvá-los em um arquivo CSV."
   ]
  },
  {
   "cell_type": "code",
   "execution_count": 24,
   "metadata": {},
   "outputs": [],
   "source": [
    "df = pd.DataFrame(data, columns=headers)"
   ]
  },
  {
   "cell_type": "code",
   "execution_count": 8,
   "metadata": {},
   "outputs": [],
   "source": [
    "df.to_csv('insumos_agropecuarios.csv', index=False)"
   ]
  },
  {
   "cell_type": "markdown",
   "metadata": {},
   "source": [
    "---\n",
    "### Limpeza e Pré-processamento dos dados\n",
    "\n",
    "Nesta seção, vamos realizar a preparação dos dados extraídos pelo web scraping a fim de assegurar a qualidade deles."
   ]
  },
  {
   "cell_type": "markdown",
   "metadata": {},
   "source": [
    "Primeiro, iremos analisar algumas características desse conjunto de dados."
   ]
  },
  {
   "cell_type": "code",
   "execution_count": 25,
   "metadata": {},
   "outputs": [
    {
     "data": {
      "application/vnd.microsoft.datawrangler.viewer.v0+json": {
       "columns": [
        {
         "name": "index",
         "rawType": "int64",
         "type": "integer"
        },
        {
         "name": "Produto",
         "rawType": "object",
         "type": "string"
        },
        {
         "name": "Unidade",
         "rawType": "object",
         "type": "string"
        },
        {
         "name": "UF",
         "rawType": "object",
         "type": "string"
        },
        {
         "name": "Ano",
         "rawType": "object",
         "type": "string"
        },
        {
         "name": "Jan",
         "rawType": "object",
         "type": "string"
        },
        {
         "name": "Fev",
         "rawType": "object",
         "type": "string"
        },
        {
         "name": "Mar",
         "rawType": "object",
         "type": "string"
        },
        {
         "name": "Abr",
         "rawType": "object",
         "type": "string"
        },
        {
         "name": "Mai",
         "rawType": "object",
         "type": "string"
        },
        {
         "name": "Jun",
         "rawType": "object",
         "type": "string"
        },
        {
         "name": "Jul",
         "rawType": "object",
         "type": "string"
        },
        {
         "name": "Ago",
         "rawType": "object",
         "type": "string"
        },
        {
         "name": "Set",
         "rawType": "object",
         "type": "string"
        },
        {
         "name": "Out",
         "rawType": "object",
         "type": "string"
        },
        {
         "name": "Nov",
         "rawType": "object",
         "type": "string"
        },
        {
         "name": "Dez",
         "rawType": "object",
         "type": "string"
        },
        {
         "name": "Grupo",
         "rawType": "object",
         "type": "string"
        },
        {
         "name": "Subgrupo",
         "rawType": "object",
         "type": "string"
        }
       ],
       "conversionMethod": "pd.DataFrame",
       "ref": "f1b463e0-f574-4a1e-9df0-c637ef2b23d6",
       "rows": [
        [
         "0",
         "DANIMEN, 300 EC",
         "L",
         "RO",
         "2020",
         "0,00",
         "0,00",
         "178,00",
         "0,00",
         "0,00",
         "0,00",
         "0,00",
         "0,00",
         "0,00",
         "0,00",
         "175,00",
         "0,00",
         "Agrotóxico",
         "Acaricida"
        ],
        [
         "1",
         "ENVIDOR",
         "L",
         "SP",
         "2020",
         "0,00",
         "0,00",
         "525,00",
         "525,00",
         "0,00",
         "0,00",
         "0,00",
         "0,00",
         "0,00",
         "0,00",
         "468,17",
         "0,00",
         "Agrotóxico",
         "Acaricida"
        ],
        [
         "2",
         "KUMULUS, 800 G/KG, ENXOFRE, BASF S.A., BENTLEY, INORGÂNICO, DF",
         "KG",
         "SP",
         "2020",
         "0,00",
         "0,00",
         "11,03",
         "11,03",
         "0,00",
         "0,00",
         "0,00",
         "0,00",
         "0,00",
         "0,00",
         "10,88",
         "0,00",
         "Agrotóxico",
         "Acaricida"
        ],
        [
         "3",
         "OBERON, 240 G/L, ESPIROMESIFENO, BAYER S.A., 5310, CETOENOL",
         "L",
         "BA",
         "2020",
         "213,99",
         "213,99",
         "213,99",
         "0,00",
         "213,99",
         "213,99",
         "213,99",
         "213,99",
         "213,00",
         "213,00",
         "250,00",
         "250,00",
         "Agrotóxico",
         "Acaricida"
        ],
        [
         "4",
         "OMITE, 300 G/KG, PROPARGITO, CROMPTON LTDA., R 420 EV, SULFITO DE ALQUILA, 300 PM",
         "L",
         "MG",
         "2020",
         "0,00",
         "0,00",
         "0,00",
         "0,00",
         "0,00",
         "0,00",
         "0,00",
         "0,00",
         "0,00",
         "0,00",
         "95,85",
         "0,00",
         "Agrotóxico",
         "Acaricida"
        ]
       ],
       "shape": {
        "columns": 18,
        "rows": 5
       }
      },
      "text/html": [
       "<div>\n",
       "<style scoped>\n",
       "    .dataframe tbody tr th:only-of-type {\n",
       "        vertical-align: middle;\n",
       "    }\n",
       "\n",
       "    .dataframe tbody tr th {\n",
       "        vertical-align: top;\n",
       "    }\n",
       "\n",
       "    .dataframe thead th {\n",
       "        text-align: right;\n",
       "    }\n",
       "</style>\n",
       "<table border=\"1\" class=\"dataframe\">\n",
       "  <thead>\n",
       "    <tr style=\"text-align: right;\">\n",
       "      <th></th>\n",
       "      <th>Produto</th>\n",
       "      <th>Unidade</th>\n",
       "      <th>UF</th>\n",
       "      <th>Ano</th>\n",
       "      <th>Jan</th>\n",
       "      <th>Fev</th>\n",
       "      <th>Mar</th>\n",
       "      <th>Abr</th>\n",
       "      <th>Mai</th>\n",
       "      <th>Jun</th>\n",
       "      <th>Jul</th>\n",
       "      <th>Ago</th>\n",
       "      <th>Set</th>\n",
       "      <th>Out</th>\n",
       "      <th>Nov</th>\n",
       "      <th>Dez</th>\n",
       "      <th>Grupo</th>\n",
       "      <th>Subgrupo</th>\n",
       "    </tr>\n",
       "  </thead>\n",
       "  <tbody>\n",
       "    <tr>\n",
       "      <th>0</th>\n",
       "      <td>DANIMEN, 300 EC</td>\n",
       "      <td>L</td>\n",
       "      <td>RO</td>\n",
       "      <td>2020</td>\n",
       "      <td>0,00</td>\n",
       "      <td>0,00</td>\n",
       "      <td>178,00</td>\n",
       "      <td>0,00</td>\n",
       "      <td>0,00</td>\n",
       "      <td>0,00</td>\n",
       "      <td>0,00</td>\n",
       "      <td>0,00</td>\n",
       "      <td>0,00</td>\n",
       "      <td>0,00</td>\n",
       "      <td>175,00</td>\n",
       "      <td>0,00</td>\n",
       "      <td>Agrotóxico</td>\n",
       "      <td>Acaricida</td>\n",
       "    </tr>\n",
       "    <tr>\n",
       "      <th>1</th>\n",
       "      <td>ENVIDOR</td>\n",
       "      <td>L</td>\n",
       "      <td>SP</td>\n",
       "      <td>2020</td>\n",
       "      <td>0,00</td>\n",
       "      <td>0,00</td>\n",
       "      <td>525,00</td>\n",
       "      <td>525,00</td>\n",
       "      <td>0,00</td>\n",
       "      <td>0,00</td>\n",
       "      <td>0,00</td>\n",
       "      <td>0,00</td>\n",
       "      <td>0,00</td>\n",
       "      <td>0,00</td>\n",
       "      <td>468,17</td>\n",
       "      <td>0,00</td>\n",
       "      <td>Agrotóxico</td>\n",
       "      <td>Acaricida</td>\n",
       "    </tr>\n",
       "    <tr>\n",
       "      <th>2</th>\n",
       "      <td>KUMULUS, 800 G/KG, ENXOFRE, BASF S.A., BENTLEY...</td>\n",
       "      <td>KG</td>\n",
       "      <td>SP</td>\n",
       "      <td>2020</td>\n",
       "      <td>0,00</td>\n",
       "      <td>0,00</td>\n",
       "      <td>11,03</td>\n",
       "      <td>11,03</td>\n",
       "      <td>0,00</td>\n",
       "      <td>0,00</td>\n",
       "      <td>0,00</td>\n",
       "      <td>0,00</td>\n",
       "      <td>0,00</td>\n",
       "      <td>0,00</td>\n",
       "      <td>10,88</td>\n",
       "      <td>0,00</td>\n",
       "      <td>Agrotóxico</td>\n",
       "      <td>Acaricida</td>\n",
       "    </tr>\n",
       "    <tr>\n",
       "      <th>3</th>\n",
       "      <td>OBERON, 240 G/L, ESPIROMESIFENO, BAYER S.A., 5...</td>\n",
       "      <td>L</td>\n",
       "      <td>BA</td>\n",
       "      <td>2020</td>\n",
       "      <td>213,99</td>\n",
       "      <td>213,99</td>\n",
       "      <td>213,99</td>\n",
       "      <td>0,00</td>\n",
       "      <td>213,99</td>\n",
       "      <td>213,99</td>\n",
       "      <td>213,99</td>\n",
       "      <td>213,99</td>\n",
       "      <td>213,00</td>\n",
       "      <td>213,00</td>\n",
       "      <td>250,00</td>\n",
       "      <td>250,00</td>\n",
       "      <td>Agrotóxico</td>\n",
       "      <td>Acaricida</td>\n",
       "    </tr>\n",
       "    <tr>\n",
       "      <th>4</th>\n",
       "      <td>OMITE, 300 G/KG, PROPARGITO, CROMPTON LTDA., R...</td>\n",
       "      <td>L</td>\n",
       "      <td>MG</td>\n",
       "      <td>2020</td>\n",
       "      <td>0,00</td>\n",
       "      <td>0,00</td>\n",
       "      <td>0,00</td>\n",
       "      <td>0,00</td>\n",
       "      <td>0,00</td>\n",
       "      <td>0,00</td>\n",
       "      <td>0,00</td>\n",
       "      <td>0,00</td>\n",
       "      <td>0,00</td>\n",
       "      <td>0,00</td>\n",
       "      <td>95,85</td>\n",
       "      <td>0,00</td>\n",
       "      <td>Agrotóxico</td>\n",
       "      <td>Acaricida</td>\n",
       "    </tr>\n",
       "  </tbody>\n",
       "</table>\n",
       "</div>"
      ],
      "text/plain": [
       "                                             Produto Unidade  UF   Ano  \\\n",
       "0                                    DANIMEN, 300 EC       L  RO  2020   \n",
       "1                                            ENVIDOR       L  SP  2020   \n",
       "2  KUMULUS, 800 G/KG, ENXOFRE, BASF S.A., BENTLEY...      KG  SP  2020   \n",
       "3  OBERON, 240 G/L, ESPIROMESIFENO, BAYER S.A., 5...       L  BA  2020   \n",
       "4  OMITE, 300 G/KG, PROPARGITO, CROMPTON LTDA., R...       L  MG  2020   \n",
       "\n",
       "      Jan     Fev     Mar     Abr     Mai     Jun     Jul     Ago     Set  \\\n",
       "0    0,00    0,00  178,00    0,00    0,00    0,00    0,00    0,00    0,00   \n",
       "1    0,00    0,00  525,00  525,00    0,00    0,00    0,00    0,00    0,00   \n",
       "2    0,00    0,00   11,03   11,03    0,00    0,00    0,00    0,00    0,00   \n",
       "3  213,99  213,99  213,99    0,00  213,99  213,99  213,99  213,99  213,00   \n",
       "4    0,00    0,00    0,00    0,00    0,00    0,00    0,00    0,00    0,00   \n",
       "\n",
       "      Out     Nov     Dez       Grupo   Subgrupo  \n",
       "0    0,00  175,00    0,00  Agrotóxico  Acaricida  \n",
       "1    0,00  468,17    0,00  Agrotóxico  Acaricida  \n",
       "2    0,00   10,88    0,00  Agrotóxico  Acaricida  \n",
       "3  213,00  250,00  250,00  Agrotóxico  Acaricida  \n",
       "4    0,00   95,85    0,00  Agrotóxico  Acaricida  "
      ]
     },
     "execution_count": 25,
     "metadata": {},
     "output_type": "execute_result"
    }
   ],
   "source": [
    "df.head()"
   ]
  },
  {
   "cell_type": "code",
   "execution_count": 26,
   "metadata": {},
   "outputs": [
    {
     "data": {
      "text/plain": [
       "(10677, 18)"
      ]
     },
     "execution_count": 26,
     "metadata": {},
     "output_type": "execute_result"
    }
   ],
   "source": [
    "df.shape"
   ]
  },
  {
   "cell_type": "code",
   "execution_count": 27,
   "metadata": {},
   "outputs": [
    {
     "name": "stdout",
     "output_type": "stream",
     "text": [
      "<class 'pandas.core.frame.DataFrame'>\n",
      "RangeIndex: 10677 entries, 0 to 10676\n",
      "Data columns (total 18 columns):\n",
      " #   Column    Non-Null Count  Dtype \n",
      "---  ------    --------------  ----- \n",
      " 0   Produto   10677 non-null  object\n",
      " 1   Unidade   10677 non-null  object\n",
      " 2   UF        10677 non-null  object\n",
      " 3   Ano       10677 non-null  object\n",
      " 4   Jan       10677 non-null  object\n",
      " 5   Fev       10677 non-null  object\n",
      " 6   Mar       10677 non-null  object\n",
      " 7   Abr       10677 non-null  object\n",
      " 8   Mai       10677 non-null  object\n",
      " 9   Jun       10677 non-null  object\n",
      " 10  Jul       10677 non-null  object\n",
      " 11  Ago       10677 non-null  object\n",
      " 12  Set       10677 non-null  object\n",
      " 13  Out       10677 non-null  object\n",
      " 14  Nov       10677 non-null  object\n",
      " 15  Dez       10677 non-null  object\n",
      " 16  Grupo     10677 non-null  object\n",
      " 17  Subgrupo  10677 non-null  object\n",
      "dtypes: object(18)\n",
      "memory usage: 1.5+ MB\n"
     ]
    }
   ],
   "source": [
    "df.info()"
   ]
  },
  {
   "cell_type": "markdown",
   "metadata": {},
   "source": [
    "A seguir, vamos transformar algumas variáveis categóricas em numéricas com o intuito de analisar os valores estatísticos delas."
   ]
  },
  {
   "cell_type": "code",
   "execution_count": 28,
   "metadata": {},
   "outputs": [],
   "source": [
    "cat = ['Ano', 'Jan', 'Fev', 'Mar', 'Abr', 'Mai', 'Jun', 'Jul', 'Ago', 'Set', 'Out', 'Nov', 'Dez'] # Lista de colunas a serem convertidas para numéricas\n",
    "\n",
    "for column in cat:\n",
    "    df[column] = pd.to_numeric(df[column].astype(str).str.replace(',', '.'), errors='coerce')"
   ]
  },
  {
   "cell_type": "markdown",
   "metadata": {},
   "source": [
    "Após isso, criaremos uma nova variável para armazenar a região do país de cada cotação a partir de sua UF."
   ]
  },
  {
   "cell_type": "markdown",
   "metadata": {},
   "source": [
    "Para isso, será necessário criar um dicionário para o mapeamento de UF para região e depois, utilizar o método map( ) para criar a nova variável."
   ]
  },
  {
   "cell_type": "code",
   "execution_count": 29,
   "metadata": {},
   "outputs": [],
   "source": [
    "# Dicionário para mapear as regiões a partir das UFs\n",
    "regioes = {\n",
    "    'Norte': ['AC', 'AP', 'AM', 'PA', 'RO', 'RR', 'TO'],\n",
    "    'Nordeste': ['AL', 'BA', 'CE', 'MA', 'PB', 'PE', 'PI', 'RN', 'SE'],\n",
    "    'Centro-Oeste': ['GO', 'MT', 'MS', 'DF'],\n",
    "    'Sudeste': ['ES', 'MG', 'RJ', 'SP'],\n",
    "    'Sul': ['PR', 'RS', 'SC']\n",
    "}\n",
    "\n",
    "uf_regiao = {uf: regiao for regiao, ufs in regioes.items() for uf in ufs} # Inverte o dicionário de regiões: para cada UF, associa-se sua região\n",
    "df['Regiao'] = df['UF'].map(uf_regiao)"
   ]
  },
  {
   "cell_type": "markdown",
   "metadata": {},
   "source": [
    "Agora, vamos reorganizar as colunas do dataframe para uma melhor visualização dos dados."
   ]
  },
  {
   "cell_type": "code",
   "execution_count": 30,
   "metadata": {},
   "outputs": [],
   "source": [
    "new_order = ['Grupo', 'Subgrupo', 'Produto', 'Unidade', 'Regiao', 'UF', 'Ano', 'Jan', 'Fev', 'Mar', 'Abr', 'Mai', 'Jun', 'Jul', 'Ago', 'Set', 'Out', 'Nov', 'Dez'] # Lista com a nova ordem das colunas\n",
    "\n",
    "df = df[new_order]"
   ]
  },
  {
   "cell_type": "markdown",
   "metadata": {},
   "source": [
    "Para fins analíticos dos dados coletados, não iremos realizar o tratamento de valores nulos, pois vamos analisar se teve ou não produção de um determinado produto em um determinado mês/ano. Portanto, manter esses valores é de extrema importância para o objetivo do negócio."
   ]
  },
  {
   "cell_type": "markdown",
   "metadata": {},
   "source": [
    "---\n",
    "### Integração com o banco de dados do PostgreSQL\n",
    "\n",
    "Nesta seção, iremos conectar ao banco de dados do PostgreSQL para armazenar os dados coletados e pré-processados."
   ]
  },
  {
   "cell_type": "markdown",
   "metadata": {},
   "source": [
    "Primeiro, vamos importar a biblioteca SQLAlchemy para fazer essa conexão com o banco."
   ]
  },
  {
   "cell_type": "code",
   "execution_count": 33,
   "metadata": {},
   "outputs": [],
   "source": [
    "from sqlalchemy import create_engine"
   ]
  }
 ],
 "metadata": {
  "kernelspec": {
   "display_name": "Python 3",
   "language": "python",
   "name": "python3"
  },
  "language_info": {
   "codemirror_mode": {
    "name": "ipython",
    "version": 3
   },
   "file_extension": ".py",
   "mimetype": "text/x-python",
   "name": "python",
   "nbconvert_exporter": "python",
   "pygments_lexer": "ipython3",
   "version": "3.12.0"
  }
 },
 "nbformat": 4,
 "nbformat_minor": 2
}
